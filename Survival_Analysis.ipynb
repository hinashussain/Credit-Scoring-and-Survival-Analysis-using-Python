{
 "cells": [
  {
   "cell_type": "markdown",
   "id": "f56cd17f",
   "metadata": {},
   "source": [
    "# Survivial Analysis"
   ]
  },
  {
   "cell_type": "markdown",
   "id": "2d803f29",
   "metadata": {},
   "source": [
    "### Hina Hussain\n",
    "#### 06 May 2022"
   ]
  },
  {
   "cell_type": "markdown",
   "id": "50439deb",
   "metadata": {},
   "source": [
    "# Introduction"
   ]
  },
  {
   "cell_type": "markdown",
   "id": "85aede4d",
   "metadata": {},
   "source": [
    "The aim of this project is to develop a survival analysis model. The model is based on the mortgages dataset provided.\n",
    "<br>\n",
    "<br>\n",
    "Survival analysis is used for analyzing the expected duration of time until an event occurs. The event in this case is defaulting on the mortgage. The output of this project will be the expected time till a borrower defaults and the different macroeconomic measures that impact the time to default."
   ]
  },
  {
   "cell_type": "code",
   "execution_count": 9,
   "id": "593d8b9a",
   "metadata": {},
   "outputs": [],
   "source": [
    "import lifelines # pip install lifelines\n",
    "import pandas as pd \n",
    "import numpy as np \n",
    "import matplotlib.pyplot as plt\n",
    "pd.set_option('display.max_columns', None)"
   ]
  },
  {
   "cell_type": "code",
   "execution_count": 4,
   "id": "6d65217f",
   "metadata": {},
   "outputs": [],
   "source": [
    "# load dataset\n",
    "credit_surv = pd.read_csv('../Project//Assignment2022_Data/mortgage.csv')"
   ]
  },
  {
   "cell_type": "code",
   "execution_count": 10,
   "id": "6455a79b",
   "metadata": {},
   "outputs": [
    {
     "data": {
      "text/html": [
       "<div>\n",
       "<style scoped>\n",
       "    .dataframe tbody tr th:only-of-type {\n",
       "        vertical-align: middle;\n",
       "    }\n",
       "\n",
       "    .dataframe tbody tr th {\n",
       "        vertical-align: top;\n",
       "    }\n",
       "\n",
       "    .dataframe thead th {\n",
       "        text-align: right;\n",
       "    }\n",
       "</style>\n",
       "<table border=\"1\" class=\"dataframe\">\n",
       "  <thead>\n",
       "    <tr style=\"text-align: right;\">\n",
       "      <th></th>\n",
       "      <th>id</th>\n",
       "      <th>time</th>\n",
       "      <th>orig_time</th>\n",
       "      <th>first_time</th>\n",
       "      <th>mat_time</th>\n",
       "      <th>balance_time</th>\n",
       "      <th>LTV_time</th>\n",
       "      <th>interest_rate_time</th>\n",
       "      <th>hpi_time</th>\n",
       "      <th>gdp_time</th>\n",
       "      <th>uer_time</th>\n",
       "      <th>REtype_CO_orig_time</th>\n",
       "      <th>REtype_PU_orig_time</th>\n",
       "      <th>REtype_SF_orig_time</th>\n",
       "      <th>investor_orig_time</th>\n",
       "      <th>balance_orig_time</th>\n",
       "      <th>FICO_orig_time</th>\n",
       "      <th>LTV_orig_time</th>\n",
       "      <th>Interest_Rate_orig_time</th>\n",
       "      <th>hpi_orig_time</th>\n",
       "      <th>default_time</th>\n",
       "      <th>payoff_time</th>\n",
       "      <th>status_time</th>\n",
       "    </tr>\n",
       "  </thead>\n",
       "  <tbody>\n",
       "    <tr>\n",
       "      <th>0</th>\n",
       "      <td>1</td>\n",
       "      <td>25</td>\n",
       "      <td>-7</td>\n",
       "      <td>25</td>\n",
       "      <td>113</td>\n",
       "      <td>41303.42</td>\n",
       "      <td>24.498336</td>\n",
       "      <td>9.200</td>\n",
       "      <td>226.29</td>\n",
       "      <td>2.899137</td>\n",
       "      <td>4.7</td>\n",
       "      <td>0</td>\n",
       "      <td>0</td>\n",
       "      <td>1</td>\n",
       "      <td>0</td>\n",
       "      <td>45000.0</td>\n",
       "      <td>715</td>\n",
       "      <td>69.4</td>\n",
       "      <td>9.20</td>\n",
       "      <td>87.03</td>\n",
       "      <td>0</td>\n",
       "      <td>0</td>\n",
       "      <td>0</td>\n",
       "    </tr>\n",
       "    <tr>\n",
       "      <th>1</th>\n",
       "      <td>1</td>\n",
       "      <td>26</td>\n",
       "      <td>-7</td>\n",
       "      <td>25</td>\n",
       "      <td>113</td>\n",
       "      <td>41061.95</td>\n",
       "      <td>24.483867</td>\n",
       "      <td>9.200</td>\n",
       "      <td>225.10</td>\n",
       "      <td>2.151365</td>\n",
       "      <td>4.7</td>\n",
       "      <td>0</td>\n",
       "      <td>0</td>\n",
       "      <td>1</td>\n",
       "      <td>0</td>\n",
       "      <td>45000.0</td>\n",
       "      <td>715</td>\n",
       "      <td>69.4</td>\n",
       "      <td>9.20</td>\n",
       "      <td>87.03</td>\n",
       "      <td>0</td>\n",
       "      <td>0</td>\n",
       "      <td>0</td>\n",
       "    </tr>\n",
       "    <tr>\n",
       "      <th>2</th>\n",
       "      <td>1</td>\n",
       "      <td>27</td>\n",
       "      <td>-7</td>\n",
       "      <td>25</td>\n",
       "      <td>113</td>\n",
       "      <td>40804.42</td>\n",
       "      <td>24.626795</td>\n",
       "      <td>9.200</td>\n",
       "      <td>222.39</td>\n",
       "      <td>2.361722</td>\n",
       "      <td>4.4</td>\n",
       "      <td>0</td>\n",
       "      <td>0</td>\n",
       "      <td>1</td>\n",
       "      <td>0</td>\n",
       "      <td>45000.0</td>\n",
       "      <td>715</td>\n",
       "      <td>69.4</td>\n",
       "      <td>9.20</td>\n",
       "      <td>87.03</td>\n",
       "      <td>0</td>\n",
       "      <td>0</td>\n",
       "      <td>0</td>\n",
       "    </tr>\n",
       "    <tr>\n",
       "      <th>3</th>\n",
       "      <td>1</td>\n",
       "      <td>28</td>\n",
       "      <td>-7</td>\n",
       "      <td>25</td>\n",
       "      <td>113</td>\n",
       "      <td>40483.89</td>\n",
       "      <td>24.735883</td>\n",
       "      <td>9.200</td>\n",
       "      <td>219.67</td>\n",
       "      <td>1.229172</td>\n",
       "      <td>4.6</td>\n",
       "      <td>0</td>\n",
       "      <td>0</td>\n",
       "      <td>1</td>\n",
       "      <td>0</td>\n",
       "      <td>45000.0</td>\n",
       "      <td>715</td>\n",
       "      <td>69.4</td>\n",
       "      <td>9.20</td>\n",
       "      <td>87.03</td>\n",
       "      <td>0</td>\n",
       "      <td>0</td>\n",
       "      <td>0</td>\n",
       "    </tr>\n",
       "    <tr>\n",
       "      <th>4</th>\n",
       "      <td>1</td>\n",
       "      <td>29</td>\n",
       "      <td>-7</td>\n",
       "      <td>25</td>\n",
       "      <td>113</td>\n",
       "      <td>40367.06</td>\n",
       "      <td>24.925476</td>\n",
       "      <td>9.200</td>\n",
       "      <td>217.37</td>\n",
       "      <td>1.692969</td>\n",
       "      <td>4.5</td>\n",
       "      <td>0</td>\n",
       "      <td>0</td>\n",
       "      <td>1</td>\n",
       "      <td>0</td>\n",
       "      <td>45000.0</td>\n",
       "      <td>715</td>\n",
       "      <td>69.4</td>\n",
       "      <td>9.20</td>\n",
       "      <td>87.03</td>\n",
       "      <td>0</td>\n",
       "      <td>0</td>\n",
       "      <td>0</td>\n",
       "    </tr>\n",
       "    <tr>\n",
       "      <th>...</th>\n",
       "      <td>...</td>\n",
       "      <td>...</td>\n",
       "      <td>...</td>\n",
       "      <td>...</td>\n",
       "      <td>...</td>\n",
       "      <td>...</td>\n",
       "      <td>...</td>\n",
       "      <td>...</td>\n",
       "      <td>...</td>\n",
       "      <td>...</td>\n",
       "      <td>...</td>\n",
       "      <td>...</td>\n",
       "      <td>...</td>\n",
       "      <td>...</td>\n",
       "      <td>...</td>\n",
       "      <td>...</td>\n",
       "      <td>...</td>\n",
       "      <td>...</td>\n",
       "      <td>...</td>\n",
       "      <td>...</td>\n",
       "      <td>...</td>\n",
       "      <td>...</td>\n",
       "      <td>...</td>\n",
       "    </tr>\n",
       "    <tr>\n",
       "      <th>622484</th>\n",
       "      <td>50000</td>\n",
       "      <td>56</td>\n",
       "      <td>16</td>\n",
       "      <td>52</td>\n",
       "      <td>177</td>\n",
       "      <td>517107.42</td>\n",
       "      <td>57.659403</td>\n",
       "      <td>2.664</td>\n",
       "      <td>181.43</td>\n",
       "      <td>1.717053</td>\n",
       "      <td>6.6</td>\n",
       "      <td>1</td>\n",
       "      <td>0</td>\n",
       "      <td>0</td>\n",
       "      <td>0</td>\n",
       "      <td>664000.0</td>\n",
       "      <td>653</td>\n",
       "      <td>80.0</td>\n",
       "      <td>1.75</td>\n",
       "      <td>167.91</td>\n",
       "      <td>0</td>\n",
       "      <td>0</td>\n",
       "      <td>0</td>\n",
       "    </tr>\n",
       "    <tr>\n",
       "      <th>622485</th>\n",
       "      <td>50000</td>\n",
       "      <td>57</td>\n",
       "      <td>16</td>\n",
       "      <td>52</td>\n",
       "      <td>177</td>\n",
       "      <td>512274.57</td>\n",
       "      <td>55.359916</td>\n",
       "      <td>2.652</td>\n",
       "      <td>187.20</td>\n",
       "      <td>2.556052</td>\n",
       "      <td>6.2</td>\n",
       "      <td>1</td>\n",
       "      <td>0</td>\n",
       "      <td>0</td>\n",
       "      <td>0</td>\n",
       "      <td>664000.0</td>\n",
       "      <td>653</td>\n",
       "      <td>80.0</td>\n",
       "      <td>1.75</td>\n",
       "      <td>167.91</td>\n",
       "      <td>0</td>\n",
       "      <td>0</td>\n",
       "      <td>0</td>\n",
       "    </tr>\n",
       "    <tr>\n",
       "      <th>622486</th>\n",
       "      <td>50000</td>\n",
       "      <td>58</td>\n",
       "      <td>16</td>\n",
       "      <td>52</td>\n",
       "      <td>177</td>\n",
       "      <td>507396.72</td>\n",
       "      <td>54.492206</td>\n",
       "      <td>2.644</td>\n",
       "      <td>188.37</td>\n",
       "      <td>2.868594</td>\n",
       "      <td>6.2</td>\n",
       "      <td>1</td>\n",
       "      <td>0</td>\n",
       "      <td>0</td>\n",
       "      <td>0</td>\n",
       "      <td>664000.0</td>\n",
       "      <td>653</td>\n",
       "      <td>80.0</td>\n",
       "      <td>1.75</td>\n",
       "      <td>167.91</td>\n",
       "      <td>0</td>\n",
       "      <td>0</td>\n",
       "      <td>0</td>\n",
       "    </tr>\n",
       "    <tr>\n",
       "      <th>622487</th>\n",
       "      <td>50000</td>\n",
       "      <td>59</td>\n",
       "      <td>16</td>\n",
       "      <td>52</td>\n",
       "      <td>177</td>\n",
       "      <td>502478.87</td>\n",
       "      <td>54.171106</td>\n",
       "      <td>2.638</td>\n",
       "      <td>187.65</td>\n",
       "      <td>2.443648</td>\n",
       "      <td>5.7</td>\n",
       "      <td>1</td>\n",
       "      <td>0</td>\n",
       "      <td>0</td>\n",
       "      <td>0</td>\n",
       "      <td>664000.0</td>\n",
       "      <td>653</td>\n",
       "      <td>80.0</td>\n",
       "      <td>1.75</td>\n",
       "      <td>167.91</td>\n",
       "      <td>0</td>\n",
       "      <td>0</td>\n",
       "      <td>0</td>\n",
       "    </tr>\n",
       "    <tr>\n",
       "      <th>622488</th>\n",
       "      <td>50000</td>\n",
       "      <td>60</td>\n",
       "      <td>16</td>\n",
       "      <td>52</td>\n",
       "      <td>177</td>\n",
       "      <td>497521.35</td>\n",
       "      <td>53.023479</td>\n",
       "      <td>2.635</td>\n",
       "      <td>189.82</td>\n",
       "      <td>2.836358</td>\n",
       "      <td>5.7</td>\n",
       "      <td>1</td>\n",
       "      <td>0</td>\n",
       "      <td>0</td>\n",
       "      <td>0</td>\n",
       "      <td>664000.0</td>\n",
       "      <td>653</td>\n",
       "      <td>80.0</td>\n",
       "      <td>1.75</td>\n",
       "      <td>167.91</td>\n",
       "      <td>0</td>\n",
       "      <td>0</td>\n",
       "      <td>0</td>\n",
       "    </tr>\n",
       "  </tbody>\n",
       "</table>\n",
       "<p>622489 rows × 23 columns</p>\n",
       "</div>"
      ],
      "text/plain": [
       "           id  time  orig_time  first_time  mat_time  balance_time   LTV_time  \\\n",
       "0           1    25         -7          25       113      41303.42  24.498336   \n",
       "1           1    26         -7          25       113      41061.95  24.483867   \n",
       "2           1    27         -7          25       113      40804.42  24.626795   \n",
       "3           1    28         -7          25       113      40483.89  24.735883   \n",
       "4           1    29         -7          25       113      40367.06  24.925476   \n",
       "...       ...   ...        ...         ...       ...           ...        ...   \n",
       "622484  50000    56         16          52       177     517107.42  57.659403   \n",
       "622485  50000    57         16          52       177     512274.57  55.359916   \n",
       "622486  50000    58         16          52       177     507396.72  54.492206   \n",
       "622487  50000    59         16          52       177     502478.87  54.171106   \n",
       "622488  50000    60         16          52       177     497521.35  53.023479   \n",
       "\n",
       "        interest_rate_time  hpi_time  gdp_time  uer_time  REtype_CO_orig_time  \\\n",
       "0                    9.200    226.29  2.899137       4.7                    0   \n",
       "1                    9.200    225.10  2.151365       4.7                    0   \n",
       "2                    9.200    222.39  2.361722       4.4                    0   \n",
       "3                    9.200    219.67  1.229172       4.6                    0   \n",
       "4                    9.200    217.37  1.692969       4.5                    0   \n",
       "...                    ...       ...       ...       ...                  ...   \n",
       "622484               2.664    181.43  1.717053       6.6                    1   \n",
       "622485               2.652    187.20  2.556052       6.2                    1   \n",
       "622486               2.644    188.37  2.868594       6.2                    1   \n",
       "622487               2.638    187.65  2.443648       5.7                    1   \n",
       "622488               2.635    189.82  2.836358       5.7                    1   \n",
       "\n",
       "        REtype_PU_orig_time  REtype_SF_orig_time  investor_orig_time  \\\n",
       "0                         0                    1                   0   \n",
       "1                         0                    1                   0   \n",
       "2                         0                    1                   0   \n",
       "3                         0                    1                   0   \n",
       "4                         0                    1                   0   \n",
       "...                     ...                  ...                 ...   \n",
       "622484                    0                    0                   0   \n",
       "622485                    0                    0                   0   \n",
       "622486                    0                    0                   0   \n",
       "622487                    0                    0                   0   \n",
       "622488                    0                    0                   0   \n",
       "\n",
       "        balance_orig_time  FICO_orig_time  LTV_orig_time  \\\n",
       "0                 45000.0             715           69.4   \n",
       "1                 45000.0             715           69.4   \n",
       "2                 45000.0             715           69.4   \n",
       "3                 45000.0             715           69.4   \n",
       "4                 45000.0             715           69.4   \n",
       "...                   ...             ...            ...   \n",
       "622484           664000.0             653           80.0   \n",
       "622485           664000.0             653           80.0   \n",
       "622486           664000.0             653           80.0   \n",
       "622487           664000.0             653           80.0   \n",
       "622488           664000.0             653           80.0   \n",
       "\n",
       "        Interest_Rate_orig_time  hpi_orig_time  default_time  payoff_time  \\\n",
       "0                          9.20          87.03             0            0   \n",
       "1                          9.20          87.03             0            0   \n",
       "2                          9.20          87.03             0            0   \n",
       "3                          9.20          87.03             0            0   \n",
       "4                          9.20          87.03             0            0   \n",
       "...                         ...            ...           ...          ...   \n",
       "622484                     1.75         167.91             0            0   \n",
       "622485                     1.75         167.91             0            0   \n",
       "622486                     1.75         167.91             0            0   \n",
       "622487                     1.75         167.91             0            0   \n",
       "622488                     1.75         167.91             0            0   \n",
       "\n",
       "        status_time  \n",
       "0                 0  \n",
       "1                 0  \n",
       "2                 0  \n",
       "3                 0  \n",
       "4                 0  \n",
       "...             ...  \n",
       "622484            0  \n",
       "622485            0  \n",
       "622486            0  \n",
       "622487            0  \n",
       "622488            0  \n",
       "\n",
       "[622489 rows x 23 columns]"
      ]
     },
     "execution_count": 10,
     "metadata": {},
     "output_type": "execute_result"
    }
   ],
   "source": [
    "credit_surv"
   ]
  },
  {
   "cell_type": "markdown",
   "id": "5d65ca99",
   "metadata": {},
   "source": [
    "# Data Exploration"
   ]
  },
  {
   "cell_type": "markdown",
   "id": "2ed49dda",
   "metadata": {},
   "source": [
    "The first step is to explore the data available. It is found that the LTV_time variable has some missing observations. Since LTV is based on the loan amount and is specific to each borrower, it was decided not to impute the missing values but to drop those observations.\n",
    "<br>\n",
    "<br>\n",
    "The first graph shows the distribution of the status categories. It was decided to keep the defaulters in one category and combine the other two (payoff and non-defaulters). The second graph shows the distribution after merging the categories. There is a mild disbalance with the ratio of defaulters and non defaulters being 30:70.\n",
    "<br>\n",
    "<br>\n",
    "Since this data is episodic, it was converted to a static set. This is done by grouping by borrower id and taking the max so that the latest values can be used. A sample of the static set was then used and their time to default was plotted. the y axis shows the borrower id and the x axis shows the time.\n",
    "The red lines indicate that the event either already defaulted or paid off. The blue lines show the active events (borrowers).\n",
    "It is important to take the right censored individuals into consideration as otherwise there could be be biasing (or censoring) of the data"
   ]
  },
  {
   "cell_type": "code",
   "execution_count": 7,
   "id": "3eaeda2e",
   "metadata": {},
   "outputs": [
    {
     "data": {
      "text/plain": [
       "id                           0\n",
       "time                         0\n",
       "orig_time                    0\n",
       "first_time                   0\n",
       "mat_time                     0\n",
       "balance_time                 0\n",
       "LTV_time                   270\n",
       "interest_rate_time           0\n",
       "hpi_time                     0\n",
       "gdp_time                     0\n",
       "uer_time                     0\n",
       "REtype_CO_orig_time          0\n",
       "REtype_PU_orig_time          0\n",
       "REtype_SF_orig_time          0\n",
       "investor_orig_time           0\n",
       "balance_orig_time            0\n",
       "FICO_orig_time               0\n",
       "LTV_orig_time                0\n",
       "Interest_Rate_orig_time      0\n",
       "hpi_orig_time                0\n",
       "default_time                 0\n",
       "payoff_time                  0\n",
       "status_time                  0\n",
       "dtype: int64"
      ]
     },
     "execution_count": 7,
     "metadata": {},
     "output_type": "execute_result"
    }
   ],
   "source": [
    "credit_surv.isna().sum()"
   ]
  },
  {
   "cell_type": "code",
   "execution_count": 11,
   "id": "800b4bff",
   "metadata": {},
   "outputs": [],
   "source": [
    "#Rows with NA values will be dropped\n",
    "credit_surv = credit_surv.dropna().reset_index(drop=True)"
   ]
  },
  {
   "cell_type": "code",
   "execution_count": 12,
   "id": "6942053f",
   "metadata": {},
   "outputs": [
    {
     "data": {
      "text/plain": [
       "<AxesSubplot:ylabel='status_time'>"
      ]
     },
     "execution_count": 12,
     "metadata": {},
     "output_type": "execute_result"
    },
    {
     "data": {
      "image/png": "[encoded data removed]",
      "text/plain": [
       "<Figure size 360x576 with 1 Axes>"
      ]
     },
     "metadata": {},
     "output_type": "display_data"
    }
   ],
   "source": [
    "# display number of defaults\n",
    "credit_surv.groupby(\"id\").agg({\"status_time\":np.max})[\"status_time\"].value_counts().plot.pie(autopct='%.2f%%', figsize=(5,8))"
   ]
  },
  {
   "cell_type": "code",
   "execution_count": 13,
   "id": "71aaaa30",
   "metadata": {},
   "outputs": [],
   "source": [
    "#keep defaulters in one category and combine the rest\n",
    "credit_surv[\"status_time\"] = credit_surv[\"status_time\"].apply(lambda x: 1 if x == 1 else 0)\n"
   ]
  },
  {
   "cell_type": "code",
   "execution_count": 14,
   "id": "2257f570",
   "metadata": {},
   "outputs": [
    {
     "data": {
      "text/plain": [
       "<AxesSubplot:ylabel='status_time'>"
      ]
     },
     "execution_count": 14,
     "metadata": {},
     "output_type": "execute_result"
    },
    {
     "data": {
      "image/png": "[encoded data removed]",
      "text/plain": [
       "<Figure size 360x576 with 1 Axes>"
      ]
     },
     "metadata": {},
     "output_type": "display_data"
    }
   ],
   "source": [
    "# display number of defaults\n",
    "credit_surv.groupby(\"id\").agg({\"status_time\":np.max})[\"status_time\"].value_counts().plot.pie(autopct='%.2f%%', figsize=(5,8))"
   ]
  },
  {
   "cell_type": "code",
   "execution_count": 18,
   "id": "1829203c",
   "metadata": {},
   "outputs": [],
   "source": [
    "# convert episodic data to static\n",
    "credit_static = credit_surv.groupby(\"id\").agg(np.max).reset_index()"
   ]
  },
  {
   "cell_type": "code",
   "execution_count": 19,
   "id": "8e42bcfc",
   "metadata": {},
   "outputs": [
    {
     "data": {
      "image/png": "[encoded data removed]",
      "text/plain": [
       "<Figure size 432x288 with 1 Axes>"
      ]
     },
     "metadata": {
      "needs_background": "light"
     },
     "output_type": "display_data"
    }
   ],
   "source": [
    "from lifelines.plotting import plot_lifetimes\n",
    "\n",
    "df_samp = credit_static.sample(20)\n",
    "ax = plot_lifetimes(df_samp[\"time\"], event_observed=df_samp[\"status_time\"])\n",
    "ax.set_xlabel(\"Time\")\n",
    "ax.set_title(\"Time to default\")\n",
    "plt.show()"
   ]
  },
  {
   "cell_type": "markdown",
   "id": "d6423ea4",
   "metadata": {},
   "source": [
    "# Time to default for borrwers with low outstanding balance vs high"
   ]
  },
  {
   "cell_type": "markdown",
   "id": "13a476ea",
   "metadata": {},
   "source": [
    "This section will evaluate whether the time to default for borrowers with low outstanding balance at origination time (30% quantile) significantly differs from borrowers with Average/High outstanding balance at origination time.\n",
    "<br>\n",
    "<br>\n",
    "The Kaplan Meier estimator is used for this purpose. It is a non-parametric statistic used to estimate the survival function from lifetime data.\n",
    "<br>\n",
    "<br>\n",
    "First, the cutoff for the 30th quantile was extracted to be able to create two groups based on the balance at origin time. Then the estimator was fit on both the sets and the survival function was plotted. Survival function computes the probability that a  specific applicant does **not** default at a specific time.\n",
    "<br>\n",
    "<br>\n",
    "The plot first plot is the survival plot. It shows the survival probability.It shows that the low balance group has a stable survival probability as the drop is steadier as compared to the drop of the high balance group which can be considered less stable. Both the lines start to drop after time 25 and become constant after time 50. The intersection of the two lines around time 35 shows that after time 35 the low balance does not default (higher survival probability) as much as the high balance group. It is the other way around before time 35\n",
    "<br>\n",
    "<br>\n",
    "To check if the difference between the two groups is statistically significant, the log rank test as performed. The null hypethosis states that there is no difference between the groups. The hypothesis was rejected at the 95% confidence level (p value lower than 0.05) and it was concluded that the two groups are different."
   ]
  },
  {
   "cell_type": "code",
   "execution_count": 27,
   "id": "247179bf",
   "metadata": {},
   "outputs": [
    {
     "data": {
      "text/plain": [
       "127900.0"
      ]
     },
     "execution_count": 27,
     "metadata": {},
     "output_type": "execute_result"
    }
   ],
   "source": [
    "#define the value at the 30th quantile\n",
    "cutoff = credit_static['balance_orig_time'].quantile(.3)\n",
    "cutoff"
   ]
  },
  {
   "cell_type": "code",
   "execution_count": 33,
   "id": "3d2bec1a",
   "metadata": {},
   "outputs": [
    {
     "data": {
      "image/png": "[encoded data removed]",
      "text/plain": [
       "<Figure size 504x432 with 2 Axes>"
      ]
     },
     "metadata": {
      "needs_background": "light"
     },
     "output_type": "display_data"
    }
   ],
   "source": [
    "from lifelines import KaplanMeierFitter\n",
    "# Compare two groups\n",
    "\n",
    "kmf1 = KaplanMeierFitter()\n",
    "kmf2 = KaplanMeierFitter()\n",
    "\n",
    "fig, ax = plt.subplots(1,1 , figsize=(7,6))\n",
    "\n",
    "# subset data\n",
    "df1 = credit_static.loc[credit_static[\"balance_orig_time\"] < cutoff,:]\n",
    "df2 = credit_static.loc[credit_static[\"balance_orig_time\"] >= cutoff,:]\n",
    "\n",
    "# fit subset low balance\n",
    "ax = kmf1.fit(df1['time'], df1['status_time'], label='Low Balance').plot_survival_function(ax=ax)\n",
    "\n",
    "# fit subset high balance\n",
    "ax = kmf2.fit(df2['time'], df2['status_time'], label='High Balance').plot_survival_function(ax=ax)\n",
    "\n",
    "from lifelines.plotting import add_at_risk_counts\n",
    "add_at_risk_counts(kmf1, kmf2, ax=ax)\n",
    "ax.plot([25, 25], [0.4,1], 'k-', c=\"red\")\n",
    "ax.plot([50, 50], [0.4,1], 'k-', c=\"red\")\n",
    "plt.tight_layout()"
   ]
  },
  {
   "cell_type": "code",
   "execution_count": 30,
   "id": "6005604a",
   "metadata": {},
   "outputs": [
    {
     "data": {
      "text/html": [
       "<div>\n",
       "<style scoped>\n",
       "    .dataframe tbody tr th:only-of-type {\n",
       "        vertical-align: middle;\n",
       "    }\n",
       "\n",
       "    .dataframe tbody tr th {\n",
       "        vertical-align: top;\n",
       "    }\n",
       "\n",
       "    .dataframe thead th {\n",
       "        text-align: right;\n",
       "    }\n",
       "</style>\n",
       "<table border=\"1\" class=\"dataframe\">\n",
       "  <thead>\n",
       "    <tr style=\"text-align: right;\">\n",
       "      <th></th>\n",
       "      <th>test_statistic</th>\n",
       "      <th>p</th>\n",
       "      <th>-log2(p)</th>\n",
       "    </tr>\n",
       "  </thead>\n",
       "  <tbody>\n",
       "    <tr>\n",
       "      <th>0</th>\n",
       "      <td>58.647544</td>\n",
       "      <td>1.886034e-14</td>\n",
       "      <td>45.591637</td>\n",
       "    </tr>\n",
       "  </tbody>\n",
       "</table>\n",
       "</div>"
      ],
      "text/plain": [
       "   test_statistic             p   -log2(p)\n",
       "0       58.647544  1.886034e-14  45.591637"
      ]
     },
     "execution_count": 30,
     "metadata": {},
     "output_type": "execute_result"
    }
   ],
   "source": [
    "# Perform logrank test to assess whether there is a difference between low and high balance borrowers in time to default\n",
    "\n",
    "from lifelines.statistics import logrank_test\n",
    "\n",
    "# Null-Hypothesis: No difference between the two groups\n",
    "res = logrank_test(df1['time'], df2['time'], event_observed_A=df1['status_time'],event_observed_B=df2['status_time'])\n",
    "\n",
    "# We can reject the Null-Hypothesis (p < 0.05)\n",
    "res.summary "
   ]
  },
  {
   "cell_type": "code",
   "execution_count": 37,
   "id": "4072d274",
   "metadata": {},
   "outputs": [
    {
     "name": "stdout",
     "output_type": "stream",
     "text": [
      "0.9435152621439395\n",
      "0.5762923715465651\n"
     ]
    },
    {
     "data": {
      "image/png": "[encoded data removed]",
      "text/plain": [
       "<Figure size 432x288 with 1 Axes>"
      ]
     },
     "metadata": {
      "needs_background": "light"
     },
     "output_type": "display_data"
    }
   ],
   "source": [
    "# plot cumulative function - Low balance group\n",
    "kmf1.plot_cumulative_density()\n",
    "\n",
    "print(kmf1.predict(25))\n",
    "print(kmf1.predict(50))"
   ]
  },
  {
   "cell_type": "code",
   "execution_count": 38,
   "id": "f917b9e3",
   "metadata": {},
   "outputs": [
    {
     "name": "stdout",
     "output_type": "stream",
     "text": [
      "0.984514372722241\n",
      "0.47352947325557204\n"
     ]
    },
    {
     "data": {
      "image/png": "[encoded data removed]",
      "text/plain": [
       "<Figure size 432x288 with 1 Axes>"
      ]
     },
     "metadata": {
      "needs_background": "light"
     },
     "output_type": "display_data"
    }
   ],
   "source": [
    "# plot cumulative function - High balance group\n",
    "kmf2.plot_cumulative_density()\n",
    "\n",
    "print(kmf2.predict(25))\n",
    "print(kmf2.predict(50))"
   ]
  },
  {
   "cell_type": "markdown",
   "id": "03a8b05b",
   "metadata": {},
   "source": [
    "# Cox Proportional Hazard model (time varying)"
   ]
  },
  {
   "cell_type": "markdown",
   "id": "cbcefdbe",
   "metadata": {},
   "source": [
    "The cox proportional hazard model was used to guage the impact of different economic variables on the probability to default. it works like a regression model and estimates the relationship between survival time and the covariates (economic variables in this case). This model computes the hazard function which is the the probability thatan applicant 𝑗 defaults at time 𝑖.\n",
    "<br>\n",
    "<br>\n",
    "The first step was to selecte the prescribed variables. Then the Cox time varying fitter was fit on the data as there are some time varying variables in the selected variables as well. \n",
    "<br>\n",
    "<br>\n",
    "The p value for the relationship between each covariate and the probability to default was inspected. All the relationships are statisically significant. \n",
    "<br>\n",
    "<br>\n",
    "the size of the coefficients shows that the interest rate, gdp, and unemplyment rate have the biggest impact on the probability to default. The coefficients can be compared because of same scale of data.\n",
    "<br>\n",
    "<br>\n",
    "The following shows the impact of the general economy on the probability of default.\n",
    "\n",
    "- A unit increase in the housing price index reduces the probability to default by 0.777%\n",
    "\n",
    "- A unit increase in the gdp growth rate reduces the probability to default by 8.161%\n",
    "\n",
    "- A unit increase in the unemployment rate reduces the probability to default by 17.589%\n",
    "\n"
   ]
  },
  {
   "cell_type": "code",
   "execution_count": 41,
   "id": "bdb5d21a",
   "metadata": {},
   "outputs": [],
   "source": [
    "# select the prescribed variables \n",
    "credit_tv = pd.merge(credit_surv[[\"default_time\", \"hpi_time\", \"gdp_time\", \"uer_time\", \"balance_time\",\"interest_rate_time\", \"FICO_orig_time\", \"LTV_time\", \"id\"]], credit_static[[\"id\", \"time\"]]\\\n",
    ".rename(columns={\"time\":\"time_end\"}), on=\"id\", how=\"inner\") \n",
    "\n",
    "# Assumption: time always starts at 0 (no interval censored data)\n",
    "credit_tv[\"first_time\"] = 0"
   ]
  },
  {
   "cell_type": "code",
   "execution_count": 43,
   "id": "3e952e42",
   "metadata": {},
   "outputs": [
    {
     "name": "stdout",
     "output_type": "stream",
     "text": [
      "Iteration 9: norm_delta = 0.00000, step_size = 1.00000, ll = -193453.17044, newton_decrement = 0.00000, seconds_since_start = 87.8Convergence completed after 9 iterations.\n"
     ]
    },
    {
     "data": {
      "text/html": [
       "<div>\n",
       "<style scoped>\n",
       "    .dataframe tbody tr th:only-of-type {\n",
       "        vertical-align: middle;\n",
       "    }\n",
       "\n",
       "    .dataframe tbody tr th {\n",
       "        vertical-align: top;\n",
       "    }\n",
       "\n",
       "    .dataframe thead th {\n",
       "        text-align: right;\n",
       "    }\n",
       "</style>\n",
       "<table border=\"1\" class=\"dataframe\">\n",
       "  <thead>\n",
       "    <tr style=\"text-align: right;\">\n",
       "      <th></th>\n",
       "      <th>coef</th>\n",
       "      <th>exp(coef)</th>\n",
       "      <th>se(coef)</th>\n",
       "      <th>coef lower 95%</th>\n",
       "      <th>coef upper 95%</th>\n",
       "      <th>exp(coef) lower 95%</th>\n",
       "      <th>exp(coef) upper 95%</th>\n",
       "      <th>cmp to</th>\n",
       "      <th>z</th>\n",
       "      <th>p</th>\n",
       "      <th>-log2(p)</th>\n",
       "    </tr>\n",
       "    <tr>\n",
       "      <th>covariate</th>\n",
       "      <th></th>\n",
       "      <th></th>\n",
       "      <th></th>\n",
       "      <th></th>\n",
       "      <th></th>\n",
       "      <th></th>\n",
       "      <th></th>\n",
       "      <th></th>\n",
       "      <th></th>\n",
       "      <th></th>\n",
       "      <th></th>\n",
       "    </tr>\n",
       "  </thead>\n",
       "  <tbody>\n",
       "    <tr>\n",
       "      <th>hpi_time</th>\n",
       "      <td>-7.740875e-03</td>\n",
       "      <td>0.992289</td>\n",
       "      <td>6.880560e-04</td>\n",
       "      <td>-9.089441e-03</td>\n",
       "      <td>-6.392310e-03</td>\n",
       "      <td>0.990952</td>\n",
       "      <td>0.993628</td>\n",
       "      <td>0.0</td>\n",
       "      <td>-11.250356</td>\n",
       "      <td>2.306594e-29</td>\n",
       "      <td>95.130151</td>\n",
       "    </tr>\n",
       "    <tr>\n",
       "      <th>gdp_time</th>\n",
       "      <td>-7.844862e-02</td>\n",
       "      <td>0.924550</td>\n",
       "      <td>4.221043e-03</td>\n",
       "      <td>-8.672171e-02</td>\n",
       "      <td>-7.017552e-02</td>\n",
       "      <td>0.916932</td>\n",
       "      <td>0.932230</td>\n",
       "      <td>0.0</td>\n",
       "      <td>-18.585125</td>\n",
       "      <td>4.240095e-77</td>\n",
       "      <td>253.704367</td>\n",
       "    </tr>\n",
       "    <tr>\n",
       "      <th>uer_time</th>\n",
       "      <td>-1.620233e-01</td>\n",
       "      <td>0.850421</td>\n",
       "      <td>8.072698e-03</td>\n",
       "      <td>-1.778455e-01</td>\n",
       "      <td>-1.462011e-01</td>\n",
       "      <td>0.837072</td>\n",
       "      <td>0.863984</td>\n",
       "      <td>0.0</td>\n",
       "      <td>-20.070522</td>\n",
       "      <td>1.335949e-89</td>\n",
       "      <td>295.233735</td>\n",
       "    </tr>\n",
       "    <tr>\n",
       "      <th>balance_time</th>\n",
       "      <td>5.797074e-07</td>\n",
       "      <td>1.000001</td>\n",
       "      <td>2.129064e-08</td>\n",
       "      <td>5.379785e-07</td>\n",
       "      <td>6.214363e-07</td>\n",
       "      <td>1.000001</td>\n",
       "      <td>1.000001</td>\n",
       "      <td>0.0</td>\n",
       "      <td>27.228279</td>\n",
       "      <td>3.005373e-163</td>\n",
       "      <td>539.886736</td>\n",
       "    </tr>\n",
       "    <tr>\n",
       "      <th>interest_rate_time</th>\n",
       "      <td>1.718005e-01</td>\n",
       "      <td>1.187441</td>\n",
       "      <td>3.444280e-03</td>\n",
       "      <td>1.650498e-01</td>\n",
       "      <td>1.785511e-01</td>\n",
       "      <td>1.179452</td>\n",
       "      <td>1.195484</td>\n",
       "      <td>0.0</td>\n",
       "      <td>49.879945</td>\n",
       "      <td>0.000000e+00</td>\n",
       "      <td>inf</td>\n",
       "    </tr>\n",
       "    <tr>\n",
       "      <th>FICO_orig_time</th>\n",
       "      <td>-4.473182e-03</td>\n",
       "      <td>0.995537</td>\n",
       "      <td>1.211391e-04</td>\n",
       "      <td>-4.710611e-03</td>\n",
       "      <td>-4.235754e-03</td>\n",
       "      <td>0.995300</td>\n",
       "      <td>0.995773</td>\n",
       "      <td>0.0</td>\n",
       "      <td>-36.925990</td>\n",
       "      <td>1.769228e-298</td>\n",
       "      <td>989.111452</td>\n",
       "    </tr>\n",
       "    <tr>\n",
       "      <th>LTV_time</th>\n",
       "      <td>8.250427e-03</td>\n",
       "      <td>1.008285</td>\n",
       "      <td>1.351084e-04</td>\n",
       "      <td>7.985619e-03</td>\n",
       "      <td>8.515234e-03</td>\n",
       "      <td>1.008018</td>\n",
       "      <td>1.008552</td>\n",
       "      <td>0.0</td>\n",
       "      <td>61.065258</td>\n",
       "      <td>0.000000e+00</td>\n",
       "      <td>inf</td>\n",
       "    </tr>\n",
       "  </tbody>\n",
       "</table>\n",
       "</div>"
      ],
      "text/plain": [
       "                            coef  exp(coef)      se(coef)  coef lower 95%  \\\n",
       "covariate                                                                   \n",
       "hpi_time           -7.740875e-03   0.992289  6.880560e-04   -9.089441e-03   \n",
       "gdp_time           -7.844862e-02   0.924550  4.221043e-03   -8.672171e-02   \n",
       "uer_time           -1.620233e-01   0.850421  8.072698e-03   -1.778455e-01   \n",
       "balance_time        5.797074e-07   1.000001  2.129064e-08    5.379785e-07   \n",
       "interest_rate_time  1.718005e-01   1.187441  3.444280e-03    1.650498e-01   \n",
       "FICO_orig_time     -4.473182e-03   0.995537  1.211391e-04   -4.710611e-03   \n",
       "LTV_time            8.250427e-03   1.008285  1.351084e-04    7.985619e-03   \n",
       "\n",
       "                    coef upper 95%  exp(coef) lower 95%  exp(coef) upper 95%  \\\n",
       "covariate                                                                      \n",
       "hpi_time             -6.392310e-03             0.990952             0.993628   \n",
       "gdp_time             -7.017552e-02             0.916932             0.932230   \n",
       "uer_time             -1.462011e-01             0.837072             0.863984   \n",
       "balance_time          6.214363e-07             1.000001             1.000001   \n",
       "interest_rate_time    1.785511e-01             1.179452             1.195484   \n",
       "FICO_orig_time       -4.235754e-03             0.995300             0.995773   \n",
       "LTV_time              8.515234e-03             1.008018             1.008552   \n",
       "\n",
       "                    cmp to          z              p    -log2(p)  \n",
       "covariate                                                         \n",
       "hpi_time               0.0 -11.250356   2.306594e-29   95.130151  \n",
       "gdp_time               0.0 -18.585125   4.240095e-77  253.704367  \n",
       "uer_time               0.0 -20.070522   1.335949e-89  295.233735  \n",
       "balance_time           0.0  27.228279  3.005373e-163  539.886736  \n",
       "interest_rate_time     0.0  49.879945   0.000000e+00         inf  \n",
       "FICO_orig_time         0.0 -36.925990  1.769228e-298  989.111452  \n",
       "LTV_time               0.0  61.065258   0.000000e+00         inf  "
      ]
     },
     "execution_count": 43,
     "metadata": {},
     "output_type": "execute_result"
    }
   ],
   "source": [
    "from lifelines import CoxTimeVaryingFitter\n",
    "\n",
    "ctv = CoxTimeVaryingFitter()\n",
    "ctv.fit(credit_tv, id_col=\"id\", event_col=\"default_time\", start_col=\"first_time\", stop_col=\"time_end\", show_progress=True)\n",
    "ctv.summary"
   ]
  },
  {
   "cell_type": "code",
   "execution_count": 44,
   "id": "590f85a5",
   "metadata": {},
   "outputs": [
    {
     "data": {
      "text/plain": [
       "covariate\n",
       "hpi_time               2.306594e-29\n",
       "gdp_time               4.240095e-77\n",
       "uer_time               1.335949e-89\n",
       "balance_time          3.005373e-163\n",
       "interest_rate_time     0.000000e+00\n",
       "FICO_orig_time        1.769228e-298\n",
       "LTV_time               0.000000e+00\n",
       "Name: p, dtype: float64"
      ]
     },
     "execution_count": 44,
     "metadata": {},
     "output_type": "execute_result"
    }
   ],
   "source": [
    "# inspect p-values\n",
    "ctv.summary['p']"
   ]
  },
  {
   "cell_type": "code",
   "execution_count": 45,
   "id": "d8d87358",
   "metadata": {},
   "outputs": [
    {
     "data": {
      "text/plain": [
       "<AxesSubplot:xlabel='log(HR) (95% CI)'>"
      ]
     },
     "execution_count": 45,
     "metadata": {},
     "output_type": "execute_result"
    },
    {
     "data": {
      "image/png": "[encoded data removed]",
      "text/plain": [
       "<Figure size 432x288 with 1 Axes>"
      ]
     },
     "metadata": {
      "needs_background": "light"
     },
     "output_type": "display_data"
    }
   ],
   "source": [
    "ctv.plot()"
   ]
  },
  {
   "cell_type": "code",
   "execution_count": 52,
   "id": "ee654ce1",
   "metadata": {},
   "outputs": [
    {
     "name": "stdout",
     "output_type": "stream",
     "text": [
      "covariate\n",
      "hpi_time             -0.007741\n",
      "gdp_time             -0.078449\n",
      "uer_time             -0.162023\n",
      "balance_time          0.000001\n",
      "interest_rate_time    0.171800\n",
      "FICO_orig_time       -0.004473\n",
      "LTV_time              0.008250\n",
      "dtype: float64\n",
      "\n",
      " A unit increase in the housing price index reduces the probability to default by 0.777%\n",
      "\n",
      " A unit increase in the gdp growth rate reduces the probability to default by 8.161%\n",
      "\n",
      " A unit increase in the unemployment rate reduces the probability to default by 17.589%\n"
     ]
    }
   ],
   "source": [
    "# print parameter values\n",
    "print(round(ctv.params_, 6))\n",
    "\n",
    "# Interpretation (under ceteris paribus assumption): \n",
    "print('\\n A unit increase in the housing price index reduces the probability to default by {:.3f}%'.format((np.exp(0.007741) - 1)*100))\n",
    "print('\\n A unit increase in the gdp growth rate reduces the probability to default by {:.3f}%'.format((np.exp(0.078449) - 1)*100))\n",
    "print('\\n A unit increase in the unemployment rate reduces the probability to default by {:.3f}%'.format((np.exp(0.162023) - 1)*100))\n"
   ]
  },
  {
   "cell_type": "code",
   "execution_count": 53,
   "id": "a01f3cb7",
   "metadata": {},
   "outputs": [
    {
     "data": {
      "text/plain": [
       "<AxesSubplot:>"
      ]
     },
     "execution_count": 53,
     "metadata": {},
     "output_type": "execute_result"
    },
    {
     "data": {
      "image/png": "[encoded data removed]",
      "text/plain": [
       "<Figure size 432x288 with 1 Axes>"
      ]
     },
     "metadata": {
      "needs_background": "light"
     },
     "output_type": "display_data"
    }
   ],
   "source": [
    "np.exp(ctv.baseline_cumulative_hazard_).plot()"
   ]
  },
  {
   "cell_type": "code",
   "execution_count": null,
   "id": "e8887461",
   "metadata": {},
   "outputs": [],
   "source": []
  }
 ],
 "metadata": {
  "kernelspec": {
   "display_name": "Python 3",
   "language": "python",
   "name": "python3"
  },
  "language_info": {
   "codemirror_mode": {
    "name": "ipython",
    "version": 3
   },
   "file_extension": ".py",
   "mimetype": "text/x-python",
   "name": "python",
   "nbconvert_exporter": "python",
   "pygments_lexer": "ipython3",
   "version": "3.9.4"
  }
 },
 "nbformat": 4,
 "nbformat_minor": 5
}
